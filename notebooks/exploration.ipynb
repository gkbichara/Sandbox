{
 "cells": [
  {
   "cell_type": "code",
   "execution_count": 17,
   "id": "48c092f0-5255-4448-9f3d-3826c1bce91c",
   "metadata": {},
   "outputs": [],
   "source": [
    "import sqlite3\n",
    "import pandas as pd"
   ]
  },
  {
   "cell_type": "code",
   "execution_count": 19,
   "id": "cef604f8-ad40-41fb-adfa-ced4176006c1",
   "metadata": {},
   "outputs": [
    {
     "name": "stdout",
     "output_type": "stream",
     "text": [
      "Tables in the database:\n",
      "                name\n",
      "0    sqlite_sequence\n",
      "1  Player_Attributes\n",
      "2             Player\n",
      "3              Match\n",
      "4             League\n",
      "5            Country\n",
      "6               Team\n",
      "7    Team_Attributes\n"
     ]
    }
   ],
   "source": [
    "# Path to the database\n",
    "db_path = '/users/gkb/desktop/Sandbox/Data/database.sqlite'\n",
    "\n",
    "# Connect to the database\n",
    "conn = sqlite3.connect(db_path)\n",
    "\n",
    "# List all tables\n",
    "query = \"SELECT name FROM sqlite_master WHERE type='table';\"\n",
    "tables = pd.read_sql(query, conn)\n",
    "\n",
    "# Display available tables\n",
    "print(\"Tables in the database:\")\n",
    "print(tables)\n"
   ]
  },
  {
   "cell_type": "code",
   "execution_count": 94,
   "id": "a429b1ca-9d87-4e3f-850d-f089c7584b7d",
   "metadata": {},
   "outputs": [],
   "source": [
    "# Load the tables\n",
    "player_query = \"SELECT * FROM Player;\"\n",
    "player_df = pd.read_sql(player_query, conn)\n",
    "\n",
    "player_attributes_query = \"SELECT * FROM Player_Attributes;\"\n",
    "player_attributes_df = pd.read_sql(player_attributes_query, conn)\n",
    "\n",
    "match_query = \"SELECT * FROM Match;\"\n",
    "match_df = pd.read_sql(match_query, conn)"
   ]
  },
  {
   "cell_type": "code",
   "execution_count": 90,
   "id": "da5c05ba-cc6c-4d23-b2d9-9bef9425673e",
   "metadata": {},
   "outputs": [
    {
     "name": "stdout",
     "output_type": "stream",
     "text": [
      "   id  player_api_id         player_name  player_fifa_api_id  \\\n",
      "0   1         505942  Aaron Appindangoye              218353   \n",
      "1   2         155782     Aaron Cresswell              189615   \n",
      "2   3         162549         Aaron Doran              186170   \n",
      "3   4          30572       Aaron Galindo              140161   \n",
      "4   5          23780        Aaron Hughes               17725   \n",
      "\n",
      "              birthday  height  weight  \n",
      "0  1992-02-29 00:00:00  182.88     187  \n",
      "1  1989-12-15 00:00:00  170.18     146  \n",
      "2  1991-05-13 00:00:00  170.18     163  \n",
      "3  1982-05-08 00:00:00  182.88     198  \n",
      "4  1979-11-08 00:00:00  182.88     154  \n",
      "(11060, 7)\n",
      "id                      int64\n",
      "player_api_id           int64\n",
      "player_name            object\n",
      "player_fifa_api_id      int64\n",
      "birthday               object\n",
      "height                float64\n",
      "weight                  int64\n",
      "dtype: object\n",
      "(0, 7)\n"
     ]
    }
   ],
   "source": [
    "# basic dea\n",
    "\n",
    "#1\n",
    "print(player_df.head())\n",
    "#2\n",
    "print(player_df.shape)\n",
    "#3\n",
    "print(player_df.dtypes)\n",
    "#4\n",
    "nulls = player_df[player_df.isnull().any(axis=1)]\n",
    "print(nulls.shape)"
   ]
  },
  {
   "cell_type": "code",
   "execution_count": 140,
   "id": "2ce1e966-8edf-433a-9cd6-fe802de3811c",
   "metadata": {},
   "outputs": [
    {
     "name": "stdout",
     "output_type": "stream",
     "text": [
      "preferred_foot\n",
      "right    138409\n",
      "left      44733\n",
      "Name: count, dtype: int64\n",
      "0    1992-02-29 00:00:00\n",
      "1    1989-12-15 00:00:00\n",
      "2    1991-05-13 00:00:00\n",
      "3    1982-05-08 00:00:00\n",
      "Name: birthday, dtype: object\n"
     ]
    }
   ],
   "source": [
    "# descriptive statistics\n",
    "\n",
    "#2\n",
    "print(player_attributes_df['preferred_foot'].value_counts())\n",
    "\n",
    "#3\n",
    "oldies = player_df['birthday'][0:4]\n",
    "print(oldies)"
   ]
  },
  {
   "cell_type": "code",
   "execution_count": null,
   "id": "28131a3d-5413-4116-b4c5-44654037cbf1",
   "metadata": {},
   "outputs": [],
   "source": []
  },
  {
   "cell_type": "code",
   "execution_count": null,
   "id": "656537da-141f-4f53-a8e6-c6680e71762b",
   "metadata": {},
   "outputs": [],
   "source": []
  }
 ],
 "metadata": {
  "kernelspec": {
   "display_name": "Python 3 (ipykernel)",
   "language": "python",
   "name": "python3"
  },
  "language_info": {
   "codemirror_mode": {
    "name": "ipython",
    "version": 3
   },
   "file_extension": ".py",
   "mimetype": "text/x-python",
   "name": "python",
   "nbconvert_exporter": "python",
   "pygments_lexer": "ipython3",
   "version": "3.10.14"
  }
 },
 "nbformat": 4,
 "nbformat_minor": 5
}
