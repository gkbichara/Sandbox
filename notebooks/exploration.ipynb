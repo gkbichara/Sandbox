{
 "cells": [
  {
   "cell_type": "code",
   "execution_count": 1,
   "id": "48c092f0-5255-4448-9f3d-3826c1bce91c",
   "metadata": {},
   "outputs": [],
   "source": [
    "import sqlite3\n",
    "import pandas as pd"
   ]
  },
  {
   "cell_type": "code",
   "execution_count": 5,
   "id": "cef604f8-ad40-41fb-adfa-ced4176006c1",
   "metadata": {},
   "outputs": [
    {
     "name": "stdout",
     "output_type": "stream",
     "text": [
      "Tables in the database:\n",
      "                name\n",
      "0    sqlite_sequence\n",
      "1  Player_Attributes\n",
      "2             Player\n",
      "3              Match\n",
      "4             League\n",
      "5            Country\n",
      "6               Team\n",
      "7    Team_Attributes\n"
     ]
    }
   ],
   "source": [
    "# Path to the database\n",
    "db_path = '/users/gkb/desktop/Sandbox/Data/database.sqlite'\n",
    "\n",
    "# Connect to the database\n",
    "conn = sqlite3.connect(db_path)\n",
    "\n",
    "# List all tables\n",
    "query = \"SELECT name FROM sqlite_master WHERE type='table';\"\n",
    "tables = pd.read_sql(query, conn)\n",
    "\n",
    "# Display available tables\n",
    "print(\"Tables in the database:\")\n",
    "print(tables)\n"
   ]
  },
  {
   "cell_type": "code",
   "execution_count": 7,
   "id": "a429b1ca-9d87-4e3f-850d-f089c7584b7d",
   "metadata": {},
   "outputs": [
    {
     "name": "stdout",
     "output_type": "stream",
     "text": [
      "   id  player_api_id         player_name  player_fifa_api_id  \\\n",
      "0   1         505942  Aaron Appindangoye              218353   \n",
      "1   2         155782     Aaron Cresswell              189615   \n",
      "2   3         162549         Aaron Doran              186170   \n",
      "3   4          30572       Aaron Galindo              140161   \n",
      "4   5          23780        Aaron Hughes               17725   \n",
      "\n",
      "              birthday  height  weight  \n",
      "0  1992-02-29 00:00:00  182.88     187  \n",
      "1  1989-12-15 00:00:00  170.18     146  \n",
      "2  1991-05-13 00:00:00  170.18     163  \n",
      "3  1982-05-08 00:00:00  182.88     198  \n",
      "4  1979-11-08 00:00:00  182.88     154  \n"
     ]
    }
   ],
   "source": [
    "# Load the Player table\n",
    "player_query = \"SELECT * FROM Player LIMIT 5;\"  # Adjust LIMIT to view more rows\n",
    "player_df = pd.read_sql(player_query, conn)\n",
    "print(player_df)\n"
   ]
  },
  {
   "cell_type": "code",
   "execution_count": null,
   "id": "85e36c5a-e938-49d4-8ad2-db7819eb98b7",
   "metadata": {},
   "outputs": [],
   "source": []
  }
 ],
 "metadata": {
  "kernelspec": {
   "display_name": "Python 3 (ipykernel)",
   "language": "python",
   "name": "python3"
  },
  "language_info": {
   "codemirror_mode": {
    "name": "ipython",
    "version": 3
   },
   "file_extension": ".py",
   "mimetype": "text/x-python",
   "name": "python",
   "nbconvert_exporter": "python",
   "pygments_lexer": "ipython3",
   "version": "3.10.16"
  }
 },
 "nbformat": 4,
 "nbformat_minor": 5
}
